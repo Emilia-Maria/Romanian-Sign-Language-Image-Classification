{
 "cells": [
  {
   "cell_type": "code",
   "execution_count": 2,
   "metadata": {},
   "outputs": [],
   "source": [
    "from keras.preprocessing import image\n",
    "from keras.layers import Dense, Flatten, Dropout, BatchNormalization, Conv2D, MaxPooling2D\n",
    "from keras.models import Sequential, Model\n",
    "from keras import layers, callbacks, utils, regularizers\n",
    "from keras.optimizers import Adam, SGD\n",
    "from keras.metrics import categorical_crossentropy\n",
    "from keras.utils import image_dataset_from_directory\n",
    "from keras.callbacks import LearningRateScheduler\n",
    "import tensorflow as tf\n",
    "from tensorflow import keras\n",
    "\n",
    "import os, pathlib, random\n",
    "import numpy as np\n",
    "import itertools\n",
    "\n",
    "\n",
    "keras.utils.set_random_seed(42)"
   ]
  },
  {
   "cell_type": "code",
   "execution_count": 46,
   "metadata": {},
   "outputs": [],
   "source": [
    "from utils_fn import generate_dataset, plot_confusion_matrix, plot_history, generate_classification_report"
   ]
  },
  {
   "cell_type": "code",
   "execution_count": 42,
   "metadata": {},
   "outputs": [
    {
     "name": "stdout",
     "output_type": "stream",
     "text": [
      "Package                      Version\n",
      "---------------------------- ---------------\n",
      "absl-py                      2.1.0\n",
      "asttokens                    2.4.1\n",
      "astunparse                   1.6.3\n",
      "cachetools                   5.4.0\n",
      "certifi                      2024.7.4\n",
      "charset-normalizer           3.3.2\n",
      "colorama                     0.4.6\n",
      "comm                         0.2.2\n",
      "debugpy                      1.8.2\n",
      "decorator                    5.1.1\n",
      "exceptiongroup               1.2.2\n",
      "executing                    2.0.1\n",
      "flatbuffers                  24.3.25\n",
      "gast                         0.4.0\n",
      "google-auth                  2.32.0\n",
      "google-auth-oauthlib         0.4.6\n",
      "google-pasta                 0.2.0\n",
      "grpcio                       1.65.1\n",
      "h5py                         3.11.0\n",
      "idna                         3.7\n",
      "importlib_metadata           8.0.0\n",
      "ipykernel                    6.29.5\n",
      "ipython                      8.26.0\n",
      "jedi                         0.19.1\n",
      "jupyter_client               8.6.2\n",
      "jupyter_core                 5.7.2\n",
      "keras                        2.10.0\n",
      "Keras-Preprocessing          1.1.2\n",
      "libclang                     18.1.1\n",
      "Markdown                     3.6\n",
      "MarkupSafe                   2.1.5\n",
      "matplotlib-inline            0.1.7\n",
      "nest_asyncio                 1.6.0\n",
      "numpy                        1.25.2\n",
      "oauthlib                     3.2.2\n",
      "opt-einsum                   3.3.0\n",
      "packaging                    24.1\n",
      "parso                        0.8.4\n",
      "pickleshare                  0.7.5\n",
      "pip                          24.0\n",
      "platformdirs                 4.2.2\n",
      "prompt_toolkit               3.0.47\n",
      "protobuf                     3.19.6\n",
      "psutil                       6.0.0\n",
      "pure-eval                    0.2.2\n",
      "pyasn1                       0.6.0\n",
      "pyasn1_modules               0.4.0\n",
      "Pygments                     2.18.0\n",
      "python-dateutil              2.9.0\n",
      "pywin32                      306\n",
      "pyzmq                        26.0.3\n",
      "requests                     2.32.3\n",
      "requests-oauthlib            2.0.0\n",
      "rsa                          4.9\n",
      "setuptools                   69.5.1\n",
      "six                          1.16.0\n",
      "stack-data                   0.6.2\n",
      "tensorboard                  2.10.1\n",
      "tensorboard-data-server      0.6.1\n",
      "tensorboard-plugin-wit       1.8.1\n",
      "tensorflow-cpu               2.10.0\n",
      "tensorflow-directml-plugin   0.4.0.dev230202\n",
      "tensorflow-estimator         2.10.0\n",
      "tensorflow_intel             2.10.0\n",
      "tensorflow-io-gcs-filesystem 0.31.0\n",
      "termcolor                    2.4.0\n",
      "tornado                      6.4.1\n",
      "traitlets                    5.14.3\n",
      "typing_extensions            4.12.2\n",
      "urllib3                      2.2.2\n",
      "wcwidth                      0.2.13\n",
      "Werkzeug                     3.0.3\n",
      "wheel                        0.43.0\n",
      "wrapt                        1.16.0\n",
      "zipp                         3.19.2\n"
     ]
    }
   ],
   "source": [
    "!pip list\n"
   ]
  },
  {
   "cell_type": "code",
   "execution_count": 27,
   "metadata": {},
   "outputs": [],
   "source": [
    "DATASET_DIR = pathlib.Path(\"Ro_Sign_language_Dataset\")\n",
    "MODEL_SAVE_DIR = pathlib.Path(\"Saves/V2\")\n",
    "SAVE_NAME = f'Bare model'\n",
    "\n",
    "BATCH_SIZE = 64\n",
    "IMAGE_HEIGHT = 128\n",
    "IMAGE_WIDTH = 128\n",
    "EPOCHS = 50\n",
    "UNITS = 256"
   ]
  },
  {
   "cell_type": "code",
   "execution_count": 28,
   "metadata": {},
   "outputs": [
    {
     "name": "stdout",
     "output_type": "stream",
     "text": [
      "Found 15600 files belonging to 26 classes.\n",
      "Found 15600 files belonging to 26 classes.\n",
      "Found 5200 files belonging to 26 classes.\n"
     ]
    }
   ],
   "source": [
    "train_dataset, validation_dataset, test_dataset = generate_dataset(base_dir=DATASET_DIR, image_size=(IMAGE_HEIGHT, IMAGE_WIDTH), batch_size=BATCH_SIZE)"
   ]
  },
  {
   "cell_type": "code",
   "execution_count": 29,
   "metadata": {},
   "outputs": [
    {
     "name": "stdout",
     "output_type": "stream",
     "text": [
      "Model: \"model\"\n",
      "_________________________________________________________________\n",
      " Layer (type)                Output Shape              Param #   \n",
      "=================================================================\n",
      " input_1 (InputLayer)        [(None, 128, 128, 3)]     0         \n",
      "                                                                 \n",
      " rescaling (Rescaling)       (None, 128, 128, 3)       0         \n",
      "                                                                 \n",
      " conv2d (Conv2D)             (None, 126, 126, 32)      896       \n",
      "                                                                 \n",
      " max_pooling2d (MaxPooling2D  (None, 63, 63, 32)       0         \n",
      " )                                                               \n",
      "                                                                 \n",
      " conv2d_1 (Conv2D)           (None, 61, 61, 64)        18496     \n",
      "                                                                 \n",
      " max_pooling2d_1 (MaxPooling  (None, 30, 30, 64)       0         \n",
      " 2D)                                                             \n",
      "                                                                 \n",
      " conv2d_2 (Conv2D)           (None, 28, 28, 128)       73856     \n",
      "                                                                 \n",
      " max_pooling2d_2 (MaxPooling  (None, 14, 14, 128)      0         \n",
      " 2D)                                                             \n",
      "                                                                 \n",
      " conv2d_3 (Conv2D)           (None, 12, 12, 256)       295168    \n",
      "                                                                 \n",
      " max_pooling2d_3 (MaxPooling  (None, 6, 6, 256)        0         \n",
      " 2D)                                                             \n",
      "                                                                 \n",
      " flatten (Flatten)           (None, 9216)              0         \n",
      "                                                                 \n",
      " dense (Dense)               (None, 256)               2359552   \n",
      "                                                                 \n",
      " dense_1 (Dense)             (None, 26)                6682      \n",
      "                                                                 \n",
      "=================================================================\n",
      "Total params: 2,754,650\n",
      "Trainable params: 2,754,650\n",
      "Non-trainable params: 0\n",
      "_________________________________________________________________\n"
     ]
    }
   ],
   "source": [
    "rescale = layers.Rescaling(1./255)\n",
    "\n",
    "inputs = keras.Input(shape=(IMAGE_HEIGHT, IMAGE_WIDTH, 3))\n",
    "x = rescale(inputs)\n",
    "x = layers.Conv2D(filters=32, kernel_size=3, activation=\"relu\")(x)\n",
    "x = layers.MaxPooling2D(pool_size=2)(x)\n",
    "x = layers.Conv2D(filters=64, kernel_size=3, activation=\"relu\")(x)\n",
    "x = layers.MaxPooling2D(pool_size=2)(x)\n",
    "x = layers.Conv2D(filters=128, kernel_size=3, activation=\"relu\")(x)\n",
    "x = layers.MaxPooling2D(pool_size=2)(x)\n",
    "x = layers.Conv2D(filters=256, kernel_size=3, activation=\"relu\")(x)\n",
    "x = layers.MaxPooling2D(pool_size=2)(x)\n",
    "x = layers.Flatten()(x)\n",
    "x = layers.Dense(UNITS, activation='relu')(x)\n",
    "outputs = layers.Dense(26, activation=\"softmax\")(x)\n",
    "my_model = keras.Model(inputs=inputs, outputs=outputs)\n",
    "\n",
    "my_model.summary()"
   ]
  },
  {
   "cell_type": "code",
   "execution_count": 30,
   "metadata": {},
   "outputs": [],
   "source": [
    "my_model.compile(loss=\"categorical_crossentropy\",\n",
    "                 optimizer=\"adam\",\n",
    "                 metrics=[\"accuracy\"])"
   ]
  },
  {
   "cell_type": "code",
   "execution_count": 32,
   "metadata": {},
   "outputs": [
    {
     "name": "stdout",
     "output_type": "stream",
     "text": [
      "Epoch 1/10\n",
      "244/244 [==============================] - 74s 277ms/step - loss: 1.7758 - accuracy: 0.4665 - val_loss: 0.2987 - val_accuracy: 0.9095\n",
      "Epoch 2/10\n",
      "244/244 [==============================] - 15s 59ms/step - loss: 0.2124 - accuracy: 0.9319 - val_loss: 0.1139 - val_accuracy: 0.9685\n",
      "Epoch 3/10\n",
      "244/244 [==============================] - 23s 96ms/step - loss: 0.0759 - accuracy: 0.9778 - val_loss: 0.0426 - val_accuracy: 0.9881\n",
      "Epoch 4/10\n",
      "244/244 [==============================] - 14s 55ms/step - loss: 0.0370 - accuracy: 0.9888 - val_loss: 0.0831 - val_accuracy: 0.9737\n",
      "Epoch 5/10\n",
      "244/244 [==============================] - 14s 55ms/step - loss: 0.0327 - accuracy: 0.9900 - val_loss: 0.0147 - val_accuracy: 0.9957\n",
      "Epoch 6/10\n",
      "244/244 [==============================] - 14s 56ms/step - loss: 0.0275 - accuracy: 0.9915 - val_loss: 0.0190 - val_accuracy: 0.9946\n",
      "Epoch 7/10\n",
      "244/244 [==============================] - 14s 57ms/step - loss: 0.0176 - accuracy: 0.9956 - val_loss: 0.0168 - val_accuracy: 0.9956\n",
      "Epoch 8/10\n",
      "244/244 [==============================] - 24s 98ms/step - loss: 0.0170 - accuracy: 0.9946 - val_loss: 0.0078 - val_accuracy: 0.9976\n",
      "Epoch 9/10\n",
      "244/244 [==============================] - 14s 56ms/step - loss: 0.0226 - accuracy: 0.9937 - val_loss: 0.0205 - val_accuracy: 0.9942\n",
      "Epoch 10/10\n",
      "244/244 [==============================] - 19s 77ms/step - loss: 0.0257 - accuracy: 0.9922 - val_loss: 0.0044 - val_accuracy: 0.9988\n"
     ]
    }
   ],
   "source": [
    "callbacks = [keras.callbacks.ModelCheckpoint(filepath = 'b.model.keras',\n",
    "                                             save_best_only=True,\n",
    "                                             monitor=\"val_loss\")]\n",
    "\n",
    "history = my_model.fit(train_dataset,\n",
    "                       epochs=10,\n",
    "                       validation_data=validation_dataset,\n",
    "                       callbacks=callbacks)\n",
    "\n",
    "np.save('hh.history.npy', history.history)"
   ]
  },
  {
   "cell_type": "code",
   "execution_count": 33,
   "metadata": {},
   "outputs": [],
   "source": [
    "!pip freeze > requirements.txt"
   ]
  },
  {
   "cell_type": "code",
   "execution_count": 35,
   "metadata": {},
   "outputs": [
    {
     "name": "stdout",
     "output_type": "stream",
     "text": [
      "82/82 [==============================] - 13s 153ms/step - loss: 1.1972 - accuracy: 0.8256\n",
      "Test accuracy: 0.826\n"
     ]
    }
   ],
   "source": [
    "test_loss, test_acc = my_model.evaluate(test_dataset)\n",
    "print(f\"Test accuracy: {test_acc:.3f}\")"
   ]
  },
  {
   "cell_type": "code",
   "execution_count": null,
   "metadata": {},
   "outputs": [],
   "source": []
  }
 ],
 "metadata": {
  "kernelspec": {
   "display_name": "tfdml_plugin",
   "language": "python",
   "name": "python3"
  },
  "language_info": {
   "codemirror_mode": {
    "name": "ipython",
    "version": 3
   },
   "file_extension": ".py",
   "mimetype": "text/x-python",
   "name": "python",
   "nbconvert_exporter": "python",
   "pygments_lexer": "ipython3",
   "version": "3.10.14"
  }
 },
 "nbformat": 4,
 "nbformat_minor": 2
}
