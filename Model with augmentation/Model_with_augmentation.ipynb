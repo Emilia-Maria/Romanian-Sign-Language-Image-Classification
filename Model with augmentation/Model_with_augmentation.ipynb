{
  "cells": [
    {
      "cell_type": "markdown",
      "metadata": {
        "id": "Cgs2x7Q_nzDn"
      },
      "source": [
        "# IMPORTS"
      ]
    },
    {
      "cell_type": "code",
      "execution_count": null,
      "metadata": {
        "id": "dKQLwH0onpNE"
      },
      "outputs": [],
      "source": [
        "from keras.preprocessing import image\n",
        "from keras.layers import Dense, Flatten, Dropout, BatchNormalization, Conv2D, MaxPooling2D\n",
        "from keras.models import Sequential, Model\n",
        "from keras import layers, callbacks, utils, regularizers\n",
        "from keras.optimizers import Adam, SGD\n",
        "from keras.metrics import categorical_crossentropy\n",
        "from keras.utils import image_dataset_from_directory\n",
        "from keras.callbacks import LearningRateScheduler\n",
        "import tensorflow as tf\n",
        "from tensorflow import keras\n",
        "\n",
        "from sklearn.metrics import confusion_matrix, classification_report\n",
        "import matplotlib.pyplot as plt\n",
        "import os, pathlib, random\n",
        "import numpy as np\n",
        "import itertools\n",
        "\n",
        "keras.utils.set_random_seed(42)"
      ]
    },
    {
      "cell_type": "markdown",
      "metadata": {
        "id": "jagHFM2mn3bP"
      },
      "source": [
        "# CONSTANTS"
      ]
    },
    {
      "cell_type": "code",
      "execution_count": null,
      "metadata": {
        "id": "navrz6yln4Vd"
      },
      "outputs": [],
      "source": [
        "DATASET_DIR = pathlib.Path(\"/content/drive/MyDrive/Colab Notebooks/Ro_Sign_language_Dataset\")\n",
        "MODEL_SAVE_DIR = pathlib.Path(\"/content/drive/MyDrive/Proiect Licenta/Saves/V2\")\n",
        "SAVE_NAME = f'Model with augmentation'\n",
        "\n",
        "BATCH_SIZE = 64\n",
        "IMAGE_HEIGHT = 128\n",
        "IMAGE_WIDTH = 128\n",
        "VALIDATION_SPLIT = 0.2\n",
        "EPOCHS = 50\n",
        "UNITS = 256"
      ]
    },
    {
      "cell_type": "markdown",
      "metadata": {
        "id": "FGq2fW_Qn7X9"
      },
      "source": [
        "# PREPROCESSING"
      ]
    },
    {
      "cell_type": "code",
      "execution_count": null,
      "metadata": {
        "colab": {
          "base_uri": "https://localhost:8080/"
        },
        "id": "LdkZalZTn8jl",
        "outputId": "30f9df48-01ac-4d83-c43e-7ff68986f7e3"
      },
      "outputs": [],
      "source": [
        "train_dataset = image_dataset_from_directory(DATASET_DIR / \"train\",\n",
        "                                             image_size=(IMAGE_HEIGHT, IMAGE_WIDTH),\n",
        "                                             batch_size=BATCH_SIZE,\n",
        "                                             label_mode='categorical')\n",
        "\n",
        "validation_dataset = image_dataset_from_directory(DATASET_DIR / \"validation\",\n",
        "                                                  image_size=(IMAGE_HEIGHT, IMAGE_WIDTH),\n",
        "                                                  batch_size=BATCH_SIZE,\n",
        "                                                  label_mode='categorical',\n",
        "                                                  shuffle=False)\n",
        "\n",
        "test_dataset = image_dataset_from_directory(DATASET_DIR / \"test\",\n",
        "                                            image_size=(IMAGE_HEIGHT, IMAGE_WIDTH),\n",
        "                                            batch_size=BATCH_SIZE,\n",
        "                                            label_mode='categorical',\n",
        "                                            shuffle=False)"
      ]
    },
    {
      "cell_type": "code",
      "execution_count": null,
      "metadata": {
        "id": "zZrcXicjn_66"
      },
      "outputs": [],
      "source": [
        "data_augmentation = keras.Sequential([layers.RandomFlip(\"horizontal\"),\n",
        "                                      layers.RandomRotation(0.05),\n",
        "                                      layers.RandomZoom(0.2)])\n",
        "\n",
        "rescale = layers.Rescaling(1./255)"
      ]
    },
    {
      "cell_type": "markdown",
      "metadata": {
        "id": "CaC6jlrD7M3v"
      },
      "source": [
        "# TRAINING"
      ]
    },
    {
      "cell_type": "markdown",
      "metadata": {
        "id": "aMPnyUdG7WlE"
      },
      "source": [
        "## ARCHITECTURE"
      ]
    },
    {
      "cell_type": "code",
      "execution_count": null,
      "metadata": {
        "colab": {
          "base_uri": "https://localhost:8080/"
        },
        "id": "kt2vLxDQ7WlJ",
        "outputId": "f60c9315-ff35-4cba-98c7-7e58117e494d"
      },
      "outputs": [],
      "source": [
        "inputs = keras.Input(shape=(IMAGE_HEIGHT, IMAGE_WIDTH, 3))\n",
        "x = data_augmentation(inputs)\n",
        "x = rescale(x)\n",
        "x = layers.Conv2D(filters=32, kernel_size=3, activation=\"relu\")(x)\n",
        "x = layers.MaxPooling2D(pool_size=2)(x)\n",
        "x = layers.Conv2D(filters=64, kernel_size=3, activation=\"relu\")(x)\n",
        "x = layers.MaxPooling2D(pool_size=2)(x)\n",
        "x = layers.Conv2D(filters=128, kernel_size=3, activation=\"relu\")(x)\n",
        "x = layers.MaxPooling2D(pool_size=2)(x)\n",
        "x = layers.Conv2D(filters=256, kernel_size=3, activation=\"relu\")(x)\n",
        "x = layers.MaxPooling2D(pool_size=2)(x)\n",
        "x = layers.Flatten()(x)\n",
        "x = layers.Dense(UNITS, activation='relu')(x)\n",
        "outputs = layers.Dense(26, activation=\"softmax\")(x)\n",
        "my_model = keras.Model(inputs=inputs, outputs=outputs)\n",
        "\n",
        "my_model.summary()"
      ]
    },
    {
      "cell_type": "code",
      "execution_count": null,
      "metadata": {
        "id": "qL3drOYN7WlK"
      },
      "outputs": [],
      "source": [
        "my_model.compile(loss=\"categorical_crossentropy\",\n",
        "                 optimizer=\"adam\",\n",
        "                 metrics=[\"accuracy\"])"
      ]
    },
    {
      "cell_type": "code",
      "execution_count": null,
      "metadata": {
        "colab": {
          "base_uri": "https://localhost:8080/"
        },
        "id": "afdHnsEG7WlK",
        "outputId": "140f1151-fd6d-4079-d77a-4d5cabaadbf0"
      },
      "outputs": [],
      "source": [
        "callbacks = [keras.callbacks.ModelCheckpoint(filepath = str(MODEL_SAVE_DIR / f'{SAVE_NAME}.model.keras'),\n",
        "                                             save_best_only=True,\n",
        "                                             monitor=\"val_loss\")]\n",
        "\n",
        "history = my_model.fit(train_dataset,\n",
        "                       epochs=EPOCHS,\n",
        "                       validation_data=validation_dataset,\n",
        "                       callbacks=callbacks)\n",
        "\n",
        "np.save(MODEL_SAVE_DIR / f'{SAVE_NAME}.history.npy', history.history)\n",
        "my_model.save(MODEL_SAVE_DIR / f'{SAVE_NAME}.model.tf', save_format='tf')\n",
        "my_model.save(MODEL_SAVE_DIR / f'{SAVE_NAME}.model.h5', save_format='h5')"
      ]
    },
    {
      "cell_type": "code",
      "execution_count": null,
      "metadata": {
        "colab": {
          "base_uri": "https://localhost:8080/",
          "height": 887
        },
        "id": "c9DoI3QM7WlK",
        "outputId": "42aa7150-522c-40b2-d1c0-a054451cf615"
      },
      "outputs": [],
      "source": [
        "history = np.load(MODEL_SAVE_DIR / f'{SAVE_NAME}.history.npy', allow_pickle=True).item()\n",
        "\n",
        "accuracy = history[\"accuracy\"]\n",
        "val_accuracy = history[\"val_accuracy\"]\n",
        "loss = history[\"loss\"]\n",
        "val_loss = history[\"val_loss\"]\n",
        "epochs = range(1, len(accuracy) + 1)\n",
        "plt.plot(epochs, accuracy, \"bo\", label=\"Acuratețe antrenare\")\n",
        "plt.plot(epochs, val_accuracy, \"b\", label=\"Acuratețe validare\")\n",
        "plt.title(\"Acuratețe pe antrenare / validare\")\n",
        "plt.legend()\n",
        "plt.figure()\n",
        "plt.plot(epochs, loss, \"bo\", label=\"Cost antrenare\")\n",
        "plt.plot(epochs, val_loss, \"b\", label=\"Cost validare\")\n",
        "plt.title(\"Cost pe antrenare / validare\")\n",
        "plt.legend()\n",
        "plt.show()"
      ]
    },
    {
      "cell_type": "markdown",
      "metadata": {
        "id": "WfX2ypzV7WlK"
      },
      "source": [
        "## EVALUATION"
      ]
    },
    {
      "cell_type": "code",
      "execution_count": null,
      "metadata": {
        "colab": {
          "base_uri": "https://localhost:8080/"
        },
        "id": "L-EqgZYa7WlK",
        "outputId": "444269ce-022c-4feb-d340-9f0cbee43b29"
      },
      "outputs": [],
      "source": [
        "test_model = keras.models.load_model(MODEL_SAVE_DIR / f'{SAVE_NAME}.model.keras')\n",
        "test_loss, test_acc = test_model.evaluate(test_dataset)\n",
        "print(f\"Test accuracy: {test_acc:.3f}\")"
      ]
    },
    {
      "cell_type": "code",
      "execution_count": null,
      "metadata": {
        "colab": {
          "base_uri": "https://localhost:8080/"
        },
        "id": "dX6qiSas7WlK",
        "outputId": "7d8884c3-057b-4b7a-8be9-d816318e3d58"
      },
      "outputs": [],
      "source": [
        "class_names = test_dataset.class_names\n",
        "y_pred = np.argmax(test_model.predict(test_dataset), axis=-1)\n",
        "y_true = np.concatenate([y for x, y in test_dataset], axis=0)\n",
        "y_true = np.argmax(y_true, axis=-1)\n",
        "\n",
        "print(classification_report(y_true, y_pred, target_names=class_names))"
      ]
    },
    {
      "cell_type": "code",
      "execution_count": null,
      "metadata": {
        "colab": {
          "base_uri": "https://localhost:8080/"
        },
        "id": "_I3I2yLh7WlL",
        "outputId": "7854cc75-84d8-4a20-e5a4-b1024ca13572"
      },
      "outputs": [],
      "source": [
        "def plot_confusion_matrix(y_true, y_pred, classes):\n",
        "    cm = confusion_matrix(y_true, y_pred)\n",
        "    plt.figure(figsize=(10, 8))\n",
        "    plt.imshow(cm, interpolation='nearest', cmap=plt.cm.Blues)\n",
        "    plt.title('Confusion Matrix')\n",
        "    plt.colorbar()\n",
        "    tick_marks = np.arange(len(classes))\n",
        "    plt.xticks(tick_marks, classes, rotation=45)\n",
        "    plt.yticks(tick_marks, classes)\n",
        "\n",
        "    thresh = cm.max() / 2.\n",
        "    for i, j in itertools.product(range(cm.shape[0]), range(cm.shape[1])):\n",
        "        plt.text(j, i, format(cm[i, j], 'd'),\n",
        "                 horizontalalignment=\"center\",\n",
        "                 color=\"white\" if cm[i, j] > thresh else \"black\")\n",
        "\n",
        "    plt.tight_layout()\n",
        "    plt.ylabel('True label')\n",
        "    plt.xlabel('Predicted label')\n",
        "\n",
        "plot_confusion_matrix(y_true, y_pred, classes=class_names)\n",
        "plt.show()"
      ]
    },
    {
      "cell_type": "code",
      "execution_count": null,
      "metadata": {
        "id": "1ZztS3g0h3AZ"
      },
      "outputs": [],
      "source": []
    }
  ],
  "metadata": {
    "colab": {
      "collapsed_sections": [
        "5n6SNgarDWcH"
      ],
      "machine_shape": "hm",
      "provenance": []
    },
    "kernelspec": {
      "display_name": "Python 3",
      "name": "python3"
    },
    "language_info": {
      "name": "python"
    }
  },
  "nbformat": 4,
  "nbformat_minor": 0
}
