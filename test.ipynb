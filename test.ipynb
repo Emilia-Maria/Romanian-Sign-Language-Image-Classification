{
 "cells": [
  {
   "cell_type": "code",
   "execution_count": 1,
   "metadata": {},
   "outputs": [
    {
     "name": "stdout",
     "output_type": "stream",
     "text": [
      "TensorFlow version: 2.10.0\n",
      "Num GPUs Available:  2\n"
     ]
    }
   ],
   "source": [
    "import tensorflow as tf\n",
    "\n",
    "print(\"TensorFlow version:\", tf.__version__)\n",
    "print(\"Num GPUs Available: \", len(tf.config.list_physical_devices('GPU')))\n"
   ]
  },
  {
   "cell_type": "code",
   "execution_count": 3,
   "metadata": {},
   "outputs": [
    {
     "name": "stdout",
     "output_type": "stream",
     "text": [
      "[PhysicalDevice(name='/physical_device:GPU:0', device_type='GPU'), PhysicalDevice(name='/physical_device:GPU:1', device_type='GPU')]\n"
     ]
    }
   ],
   "source": [
    "import tensorflow as tf\n",
    "print(tf.config.list_physical_devices('GPU'))\n"
   ]
  },
  {
   "cell_type": "code",
   "execution_count": 4,
   "metadata": {},
   "outputs": [
    {
     "name": "stdout",
     "output_type": "stream",
     "text": [
      "Epoch 1/10\n",
      "32/32 [==============================] - 2s 15ms/step - loss: 2.3665 - accuracy: 0.0990\n",
      "Epoch 2/10\n",
      "32/32 [==============================] - 0s 9ms/step - loss: 2.3122 - accuracy: 0.1190\n",
      "Epoch 3/10\n",
      "32/32 [==============================] - 0s 6ms/step - loss: 2.2888 - accuracy: 0.1350\n",
      "Epoch 4/10\n",
      "32/32 [==============================] - 0s 5ms/step - loss: 2.2736 - accuracy: 0.1390\n",
      "Epoch 5/10\n",
      "32/32 [==============================] - 0s 5ms/step - loss: 2.2581 - accuracy: 0.1490\n",
      "Epoch 6/10\n",
      "32/32 [==============================] - 0s 6ms/step - loss: 2.2375 - accuracy: 0.1660\n",
      "Epoch 7/10\n",
      "32/32 [==============================] - 0s 6ms/step - loss: 2.2227 - accuracy: 0.1790\n",
      "Epoch 8/10\n",
      "32/32 [==============================] - 0s 6ms/step - loss: 2.2049 - accuracy: 0.1870\n",
      "Epoch 9/10\n",
      "32/32 [==============================] - 0s 6ms/step - loss: 2.1848 - accuracy: 0.2070\n",
      "Epoch 10/10\n",
      "32/32 [==============================] - 0s 6ms/step - loss: 2.1683 - accuracy: 0.2250\n"
     ]
    },
    {
     "data": {
      "text/plain": [
       "<keras.callbacks.History at 0x2b1f1bde260>"
      ]
     },
     "execution_count": 4,
     "metadata": {},
     "output_type": "execute_result"
    }
   ],
   "source": [
    "import tensorflow as tf\n",
    "from tensorflow.keras import layers, models\n",
    "\n",
    "# List available GPUs\n",
    "gpus = tf.config.experimental.list_physical_devices('GPU')\n",
    "if gpus:\n",
    "    try:\n",
    "        # Currently, memory growth needs to be the same across GPUs\n",
    "        for gpu in gpus:\n",
    "            tf.config.experimental.set_memory_growth(gpu, True)\n",
    "        # Set the GPU you want to use (assuming the RTX 4060 is the first GPU)\n",
    "        tf.config.experimental.set_visible_devices(gpus[0], 'GPU')\n",
    "    except RuntimeError as e:\n",
    "        print(e)\n",
    "\n",
    "# Define your model\n",
    "model = models.Sequential()\n",
    "model.add(layers.Dense(64, activation='relu', input_shape=(100,)))\n",
    "model.add(layers.Dense(10, activation='softmax'))\n",
    "\n",
    "# Compile the model\n",
    "model.compile(optimizer='adam', loss='sparse_categorical_crossentropy', metrics=['accuracy'])\n",
    "\n",
    "# Generate some dummy data\n",
    "import numpy as np\n",
    "x_train = np.random.random((1000, 100))\n",
    "y_train = np.random.randint(10, size=(1000,))\n",
    "\n",
    "# Train the model\n",
    "model.fit(x_train, y_train, epochs=10, batch_size=32)\n"
   ]
  },
  {
   "cell_type": "code",
   "execution_count": null,
   "metadata": {},
   "outputs": [],
   "source": []
  }
 ],
 "metadata": {
  "kernelspec": {
   "display_name": "tfdml_plugin",
   "language": "python",
   "name": "python3"
  },
  "language_info": {
   "codemirror_mode": {
    "name": "ipython",
    "version": 3
   },
   "file_extension": ".py",
   "mimetype": "text/x-python",
   "name": "python",
   "nbconvert_exporter": "python",
   "pygments_lexer": "ipython3",
   "version": "3.10.14"
  }
 },
 "nbformat": 4,
 "nbformat_minor": 2
}
