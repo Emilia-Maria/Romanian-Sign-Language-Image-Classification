{
 "cells": [
  {
   "cell_type": "code",
   "execution_count": 1,
   "metadata": {},
   "outputs": [],
   "source": [
    "from tensorflow import keras\n",
    "from keras import layers, models, utils\n",
    "import numpy as np\n",
    "from utils_fn import generate_dataset, plot_confusion_matrix, plot_history, generate_classification_report, predict_image\n",
    "from pathlib import Path\n",
    "\n",
    "utils.set_random_seed(42)"
   ]
  },
  {
   "cell_type": "code",
   "execution_count": 2,
   "metadata": {},
   "outputs": [],
   "source": [
    "SAVE_NAME = f'Bare model'\n",
    "DATASET_DIR = Path('Ro_Sign_language_Dataset')\n",
    "MODEL_SAVE_DIR = Path(f'Saves/{SAVE_NAME}')\n",
    "\n",
    "BATCH_SIZE = 64\n",
    "IMAGE_SIZE = (128, 128)\n",
    "EPOCHS = 50"
   ]
  },
  {
   "cell_type": "code",
   "execution_count": 3,
   "metadata": {},
   "outputs": [
    {
     "name": "stdout",
     "output_type": "stream",
     "text": [
      "Found 15600 files belonging to 26 classes.\n",
      "Found 5200 files belonging to 26 classes.\n",
      "Found 5200 files belonging to 26 classes.\n"
     ]
    }
   ],
   "source": [
    "train_dataset, validation_dataset, test_dataset = generate_dataset(base_dir=DATASET_DIR, image_size=IMAGE_SIZE, batch_size=BATCH_SIZE)"
   ]
  },
  {
   "cell_type": "code",
   "execution_count": 5,
   "metadata": {},
   "outputs": [],
   "source": [
    "rescale = layers.Rescaling(1./255)"
   ]
  },
  {
   "cell_type": "code",
   "execution_count": 6,
   "metadata": {},
   "outputs": [
    {
     "name": "stdout",
     "output_type": "stream",
     "text": [
      "Model: \"model\"\n",
      "_________________________________________________________________\n",
      " Layer (type)                Output Shape              Param #   \n",
      "=================================================================\n",
      " input_1 (InputLayer)        [(None, 128, 128, 3)]     0         \n",
      "                                                                 \n",
      " rescaling (Rescaling)       (None, 128, 128, 3)       0         \n",
      "                                                                 \n",
      " conv2d (Conv2D)             (None, 126, 126, 32)      896       \n",
      "                                                                 \n",
      " max_pooling2d (MaxPooling2D  (None, 63, 63, 32)       0         \n",
      " )                                                               \n",
      "                                                                 \n",
      " conv2d_1 (Conv2D)           (None, 61, 61, 64)        18496     \n",
      "                                                                 \n",
      " max_pooling2d_1 (MaxPooling  (None, 30, 30, 64)       0         \n",
      " 2D)                                                             \n",
      "                                                                 \n",
      " conv2d_2 (Conv2D)           (None, 28, 28, 128)       73856     \n",
      "                                                                 \n",
      " max_pooling2d_2 (MaxPooling  (None, 14, 14, 128)      0         \n",
      " 2D)                                                             \n",
      "                                                                 \n",
      " conv2d_3 (Conv2D)           (None, 12, 12, 256)       295168    \n",
      "                                                                 \n",
      " max_pooling2d_3 (MaxPooling  (None, 6, 6, 256)        0         \n",
      " 2D)                                                             \n",
      "                                                                 \n",
      " flatten (Flatten)           (None, 9216)              0         \n",
      "                                                                 \n",
      " dense (Dense)               (None, 256)               2359552   \n",
      "                                                                 \n",
      " dense_1 (Dense)             (None, 26)                6682      \n",
      "                                                                 \n",
      "=================================================================\n",
      "Total params: 2,754,650\n",
      "Trainable params: 2,754,650\n",
      "Non-trainable params: 0\n",
      "_________________________________________________________________\n"
     ]
    }
   ],
   "source": [
    "inputs = keras.Input(shape=(IMAGE_SIZE[0], IMAGE_SIZE[1], 3))\n",
    "x = rescale(inputs)\n",
    "x = layers.Conv2D(filters=32, kernel_size=3, activation=\"relu\")(x)\n",
    "x = layers.MaxPooling2D(pool_size=2)(x)\n",
    "x = layers.Conv2D(filters=64, kernel_size=3, activation=\"relu\")(x)\n",
    "x = layers.MaxPooling2D(pool_size=2)(x)\n",
    "x = layers.Conv2D(filters=128, kernel_size=3, activation=\"relu\")(x)\n",
    "x = layers.MaxPooling2D(pool_size=2)(x)\n",
    "x = layers.Conv2D(filters=256, kernel_size=3, activation=\"relu\")(x)\n",
    "x = layers.MaxPooling2D(pool_size=2)(x)\n",
    "x = layers.Flatten()(x)\n",
    "x = layers.Dense(256, activation='relu')(x)\n",
    "outputs = layers.Dense(26, activation=\"softmax\")(x)\n",
    "bare_model = keras.Model(inputs=inputs, outputs=outputs)\n",
    "\n",
    "bare_model.summary()"
   ]
  },
  {
   "cell_type": "code",
   "execution_count": 7,
   "metadata": {},
   "outputs": [],
   "source": [
    "bare_model.compile(loss=\"categorical_crossentropy\",\n",
    "                   optimizer=\"adam\",\n",
    "                   metrics=[\"accuracy\"])"
   ]
  },
  {
   "cell_type": "code",
   "execution_count": 10,
   "metadata": {},
   "outputs": [
    {
     "name": "stdout",
     "output_type": "stream",
     "text": [
      "Epoch 1/50\n",
      "244/244 [==============================] - 58s 225ms/step - loss: 1.9450 - accuracy: 0.4095 - val_loss: 1.3530 - val_accuracy: 0.6315\n",
      "Epoch 2/50\n",
      "244/244 [==============================] - 11s 44ms/step - loss: 0.2216 - accuracy: 0.9294 - val_loss: 0.7559 - val_accuracy: 0.8146\n",
      "Epoch 3/50\n",
      "244/244 [==============================] - 10s 43ms/step - loss: 0.0740 - accuracy: 0.9772 - val_loss: 0.9312 - val_accuracy: 0.7942\n",
      "Epoch 4/50\n",
      "244/244 [==============================] - 15s 61ms/step - loss: 0.0343 - accuracy: 0.9899 - val_loss: 0.8517 - val_accuracy: 0.8438\n",
      "Epoch 5/50\n",
      "244/244 [==============================] - 14s 57ms/step - loss: 0.0100 - accuracy: 0.9975 - val_loss: 0.8172 - val_accuracy: 0.8508\n",
      "Epoch 6/50\n",
      "244/244 [==============================] - 11s 45ms/step - loss: 0.0406 - accuracy: 0.9867 - val_loss: 0.6665 - val_accuracy: 0.8463\n",
      "Epoch 7/50\n",
      "244/244 [==============================] - 11s 45ms/step - loss: 0.0288 - accuracy: 0.9924 - val_loss: 0.7517 - val_accuracy: 0.8837\n",
      "Epoch 8/50\n",
      "244/244 [==============================] - 11s 45ms/step - loss: 0.0166 - accuracy: 0.9967 - val_loss: 0.8168 - val_accuracy: 0.8723\n",
      "Epoch 9/50\n",
      "244/244 [==============================] - 11s 44ms/step - loss: 0.0067 - accuracy: 0.9984 - val_loss: 0.7062 - val_accuracy: 0.8808\n",
      "Epoch 10/50\n",
      "244/244 [==============================] - 15s 63ms/step - loss: 0.0083 - accuracy: 0.9982 - val_loss: 0.7947 - val_accuracy: 0.8563\n",
      "Epoch 11/50\n",
      "244/244 [==============================] - 17s 69ms/step - loss: 0.0284 - accuracy: 0.9913 - val_loss: 0.8890 - val_accuracy: 0.8737\n",
      "Epoch 12/50\n",
      "244/244 [==============================] - 18s 71ms/step - loss: 0.0244 - accuracy: 0.9931 - val_loss: 0.5956 - val_accuracy: 0.8946\n",
      "Epoch 13/50\n",
      "244/244 [==============================] - 14s 57ms/step - loss: 0.0117 - accuracy: 0.9965 - val_loss: 0.9075 - val_accuracy: 0.8592\n",
      "Epoch 14/50\n",
      "244/244 [==============================] - 11s 46ms/step - loss: 0.0151 - accuracy: 0.9955 - val_loss: 1.0408 - val_accuracy: 0.8423\n",
      "Epoch 15/50\n",
      "244/244 [==============================] - 11s 43ms/step - loss: 0.0156 - accuracy: 0.9958 - val_loss: 0.9785 - val_accuracy: 0.8602\n",
      "Epoch 16/50\n",
      "244/244 [==============================] - 11s 44ms/step - loss: 0.0094 - accuracy: 0.9966 - val_loss: 0.8559 - val_accuracy: 0.8958\n",
      "Epoch 17/50\n",
      "244/244 [==============================] - 11s 44ms/step - loss: 0.0053 - accuracy: 0.9984 - val_loss: 1.0676 - val_accuracy: 0.8548\n",
      "Epoch 18/50\n",
      "244/244 [==============================] - 11s 43ms/step - loss: 0.0081 - accuracy: 0.9979 - val_loss: 0.8572 - val_accuracy: 0.8737\n",
      "Epoch 19/50\n",
      "244/244 [==============================] - 11s 44ms/step - loss: 0.0130 - accuracy: 0.9967 - val_loss: 0.7471 - val_accuracy: 0.8869\n",
      "Epoch 20/50\n",
      "244/244 [==============================] - 10s 42ms/step - loss: 0.0073 - accuracy: 0.9990 - val_loss: 0.8779 - val_accuracy: 0.8662\n",
      "Epoch 21/50\n",
      "244/244 [==============================] - 10s 42ms/step - loss: 2.0120e-04 - accuracy: 1.0000 - val_loss: 0.7517 - val_accuracy: 0.8940\n",
      "Epoch 22/50\n",
      "244/244 [==============================] - 11s 45ms/step - loss: 1.7738e-05 - accuracy: 1.0000 - val_loss: 0.7457 - val_accuracy: 0.8983\n",
      "Epoch 23/50\n",
      "244/244 [==============================] - 11s 46ms/step - loss: 7.6131e-06 - accuracy: 1.0000 - val_loss: 0.7683 - val_accuracy: 0.8985\n",
      "Epoch 24/50\n",
      "244/244 [==============================] - 10s 41ms/step - loss: 4.2905e-06 - accuracy: 1.0000 - val_loss: 0.7887 - val_accuracy: 0.8987\n",
      "Epoch 25/50\n",
      "244/244 [==============================] - 14s 58ms/step - loss: 2.8970e-06 - accuracy: 1.0000 - val_loss: 0.8114 - val_accuracy: 0.8985\n",
      "Epoch 26/50\n",
      "244/244 [==============================] - 14s 56ms/step - loss: 2.0724e-06 - accuracy: 1.0000 - val_loss: 0.8223 - val_accuracy: 0.8983\n",
      "Epoch 27/50\n",
      "244/244 [==============================] - 16s 63ms/step - loss: 1.5903e-06 - accuracy: 1.0000 - val_loss: 0.8377 - val_accuracy: 0.8981\n",
      "Epoch 28/50\n",
      "244/244 [==============================] - 17s 69ms/step - loss: 1.2991e-06 - accuracy: 1.0000 - val_loss: 0.8496 - val_accuracy: 0.8983\n",
      "Epoch 29/50\n",
      "244/244 [==============================] - 17s 68ms/step - loss: 1.0945e-06 - accuracy: 1.0000 - val_loss: 0.8621 - val_accuracy: 0.8979\n",
      "Epoch 30/50\n",
      "244/244 [==============================] - 18s 71ms/step - loss: 9.3432e-07 - accuracy: 1.0000 - val_loss: 0.8691 - val_accuracy: 0.8983\n",
      "Epoch 31/50\n",
      "244/244 [==============================] - 18s 74ms/step - loss: 8.0644e-07 - accuracy: 1.0000 - val_loss: 0.8814 - val_accuracy: 0.8987\n",
      "Epoch 32/50\n",
      "244/244 [==============================] - 19s 77ms/step - loss: 6.9571e-07 - accuracy: 1.0000 - val_loss: 0.8910 - val_accuracy: 0.8988\n",
      "Epoch 33/50\n",
      "244/244 [==============================] - 19s 77ms/step - loss: 6.0264e-07 - accuracy: 1.0000 - val_loss: 0.8997 - val_accuracy: 0.8987\n",
      "Epoch 34/50\n",
      "244/244 [==============================] - 12s 46ms/step - loss: 5.3562e-07 - accuracy: 1.0000 - val_loss: 0.9102 - val_accuracy: 0.8988\n",
      "Epoch 35/50\n",
      "244/244 [==============================] - 11s 45ms/step - loss: 4.7600e-07 - accuracy: 1.0000 - val_loss: 0.9135 - val_accuracy: 0.8994\n",
      "Epoch 36/50\n",
      "244/244 [==============================] - 11s 46ms/step - loss: 4.2114e-07 - accuracy: 1.0000 - val_loss: 0.9200 - val_accuracy: 0.8996\n",
      "Epoch 37/50\n",
      "244/244 [==============================] - 11s 46ms/step - loss: 3.7568e-07 - accuracy: 1.0000 - val_loss: 0.9271 - val_accuracy: 0.8992\n",
      "Epoch 38/50\n",
      "244/244 [==============================] - 11s 45ms/step - loss: 3.3475e-07 - accuracy: 1.0000 - val_loss: 0.9391 - val_accuracy: 0.8992\n",
      "Epoch 39/50\n",
      "244/244 [==============================] - 11s 45ms/step - loss: 3.0049e-07 - accuracy: 1.0000 - val_loss: 0.9427 - val_accuracy: 0.8990\n",
      "Epoch 40/50\n",
      "244/244 [==============================] - 12s 48ms/step - loss: 2.6999e-07 - accuracy: 1.0000 - val_loss: 0.9497 - val_accuracy: 0.8996\n",
      "Epoch 41/50\n",
      "244/244 [==============================] - 12s 48ms/step - loss: 2.4333e-07 - accuracy: 1.0000 - val_loss: 0.9551 - val_accuracy: 0.8990\n",
      "Epoch 42/50\n",
      "244/244 [==============================] - 12s 48ms/step - loss: 2.1863e-07 - accuracy: 1.0000 - val_loss: 0.9594 - val_accuracy: 0.8990\n",
      "Epoch 43/50\n",
      "244/244 [==============================] - 12s 47ms/step - loss: 1.9746e-07 - accuracy: 1.0000 - val_loss: 0.9652 - val_accuracy: 0.8985\n",
      "Epoch 44/50\n",
      "244/244 [==============================] - 11s 45ms/step - loss: 1.7779e-07 - accuracy: 1.0000 - val_loss: 0.9716 - val_accuracy: 0.8983\n",
      "Epoch 45/50\n",
      "244/244 [==============================] - 11s 45ms/step - loss: 1.6135e-07 - accuracy: 1.0000 - val_loss: 0.9752 - val_accuracy: 0.8983\n",
      "Epoch 46/50\n",
      "244/244 [==============================] - 13s 52ms/step - loss: 1.4619e-07 - accuracy: 1.0000 - val_loss: 0.9800 - val_accuracy: 0.8981\n",
      "Epoch 47/50\n",
      "244/244 [==============================] - 17s 67ms/step - loss: 1.3214e-07 - accuracy: 1.0000 - val_loss: 0.9885 - val_accuracy: 0.8981\n",
      "Epoch 48/50\n",
      "244/244 [==============================] - 13s 52ms/step - loss: 1.1991e-07 - accuracy: 1.0000 - val_loss: 0.9934 - val_accuracy: 0.8977\n",
      "Epoch 49/50\n",
      "244/244 [==============================] - 12s 48ms/step - loss: 1.0860e-07 - accuracy: 1.0000 - val_loss: 0.9991 - val_accuracy: 0.8977\n",
      "Epoch 50/50\n",
      "244/244 [==============================] - 11s 46ms/step - loss: 9.8121e-08 - accuracy: 1.0000 - val_loss: 1.0062 - val_accuracy: 0.8975\n"
     ]
    },
    {
     "name": "stderr",
     "output_type": "stream",
     "text": [
      "WARNING:absl:Found untraced functions such as _jit_compiled_convolution_op, _jit_compiled_convolution_op, _jit_compiled_convolution_op, _jit_compiled_convolution_op while saving (showing 4 of 4). These functions will not be directly callable after loading.\n"
     ]
    },
    {
     "name": "stdout",
     "output_type": "stream",
     "text": [
      "INFO:tensorflow:Assets written to: Saves\\Bare model\\Bare model.model.tf\\assets\n"
     ]
    },
    {
     "name": "stderr",
     "output_type": "stream",
     "text": [
      "INFO:tensorflow:Assets written to: Saves\\Bare model\\Bare model.model.tf\\assets\n"
     ]
    }
   ],
   "source": [
    "callbacks = [keras.callbacks.ModelCheckpoint(filepath = str(MODEL_SAVE_DIR / f'{SAVE_NAME}.model.keras'),\n",
    "                                             save_best_only=True,\n",
    "                                             monitor=\"val_loss\")]\n",
    "\n",
    "history = bare_model.fit(train_dataset,\n",
    "                         epochs=EPOCHS,\n",
    "                         validation_data=validation_dataset,\n",
    "                         callbacks=callbacks)\n",
    "\n",
    "np.save(MODEL_SAVE_DIR / f'{SAVE_NAME}.history.npy', history.history)\n",
    "bare_model.save(MODEL_SAVE_DIR / f'{SAVE_NAME}.model.tf', save_format='tf')\n",
    "bare_model.save(MODEL_SAVE_DIR / f'{SAVE_NAME}.model.h5', save_format='h5')"
   ]
  },
  {
   "cell_type": "code",
   "execution_count": 5,
   "metadata": {},
   "outputs": [
    {
     "ename": "OSError",
     "evalue": "Unable to synchronously open file (file signature not found)",
     "output_type": "error",
     "traceback": [
      "\u001b[1;31m---------------------------------------------------------------------------\u001b[0m",
      "\u001b[1;31mOSError\u001b[0m                                   Traceback (most recent call last)",
      "Cell \u001b[1;32mIn[5], line 1\u001b[0m\n\u001b[1;32m----> 1\u001b[0m test_model \u001b[38;5;241m=\u001b[39m \u001b[43mmodels\u001b[49m\u001b[38;5;241;43m.\u001b[39;49m\u001b[43mload_model\u001b[49m\u001b[43m(\u001b[49m\u001b[38;5;124;43m'\u001b[39;49m\u001b[38;5;124;43mBare model\u001b[39;49m\u001b[38;5;124;43m\\\u001b[39;49m\u001b[38;5;124;43mBare model.model.keras\u001b[39;49m\u001b[38;5;124;43m'\u001b[39;49m\u001b[43m)\u001b[49m\n\u001b[0;32m      2\u001b[0m test_loss, test_acc \u001b[38;5;241m=\u001b[39m test_model\u001b[38;5;241m.\u001b[39mevaluate(test_dataset)\n\u001b[0;32m      3\u001b[0m \u001b[38;5;28mprint\u001b[39m(\u001b[38;5;124mf\u001b[39m\u001b[38;5;124m\"\u001b[39m\u001b[38;5;124mTest accuracy: \u001b[39m\u001b[38;5;132;01m{\u001b[39;00mtest_acc\u001b[38;5;132;01m:\u001b[39;00m\u001b[38;5;124m.3f\u001b[39m\u001b[38;5;132;01m}\u001b[39;00m\u001b[38;5;124m\"\u001b[39m)\n",
      "File \u001b[1;32mc:\\Users\\nutae\\.conda\\envs\\tfdml_plugin\\lib\\site-packages\\keras\\utils\\traceback_utils.py:70\u001b[0m, in \u001b[0;36mfilter_traceback.<locals>.error_handler\u001b[1;34m(*args, **kwargs)\u001b[0m\n\u001b[0;32m     67\u001b[0m     filtered_tb \u001b[38;5;241m=\u001b[39m _process_traceback_frames(e\u001b[38;5;241m.\u001b[39m__traceback__)\n\u001b[0;32m     68\u001b[0m     \u001b[38;5;66;03m# To get the full stack trace, call:\u001b[39;00m\n\u001b[0;32m     69\u001b[0m     \u001b[38;5;66;03m# `tf.debugging.disable_traceback_filtering()`\u001b[39;00m\n\u001b[1;32m---> 70\u001b[0m     \u001b[38;5;28;01mraise\u001b[39;00m e\u001b[38;5;241m.\u001b[39mwith_traceback(filtered_tb) \u001b[38;5;28;01mfrom\u001b[39;00m \u001b[38;5;28;01mNone\u001b[39;00m\n\u001b[0;32m     71\u001b[0m \u001b[38;5;28;01mfinally\u001b[39;00m:\n\u001b[0;32m     72\u001b[0m     \u001b[38;5;28;01mdel\u001b[39;00m filtered_tb\n",
      "File \u001b[1;32mc:\\Users\\nutae\\.conda\\envs\\tfdml_plugin\\lib\\site-packages\\h5py\\_hl\\files.py:562\u001b[0m, in \u001b[0;36mFile.__init__\u001b[1;34m(self, name, mode, driver, libver, userblock_size, swmr, rdcc_nslots, rdcc_nbytes, rdcc_w0, track_order, fs_strategy, fs_persist, fs_threshold, fs_page_size, page_buf_size, min_meta_keep, min_raw_keep, locking, alignment_threshold, alignment_interval, meta_block_size, **kwds)\u001b[0m\n\u001b[0;32m    553\u001b[0m     fapl \u001b[38;5;241m=\u001b[39m make_fapl(driver, libver, rdcc_nslots, rdcc_nbytes, rdcc_w0,\n\u001b[0;32m    554\u001b[0m                      locking, page_buf_size, min_meta_keep, min_raw_keep,\n\u001b[0;32m    555\u001b[0m                      alignment_threshold\u001b[38;5;241m=\u001b[39malignment_threshold,\n\u001b[0;32m    556\u001b[0m                      alignment_interval\u001b[38;5;241m=\u001b[39malignment_interval,\n\u001b[0;32m    557\u001b[0m                      meta_block_size\u001b[38;5;241m=\u001b[39mmeta_block_size,\n\u001b[0;32m    558\u001b[0m                      \u001b[38;5;241m*\u001b[39m\u001b[38;5;241m*\u001b[39mkwds)\n\u001b[0;32m    559\u001b[0m     fcpl \u001b[38;5;241m=\u001b[39m make_fcpl(track_order\u001b[38;5;241m=\u001b[39mtrack_order, fs_strategy\u001b[38;5;241m=\u001b[39mfs_strategy,\n\u001b[0;32m    560\u001b[0m                      fs_persist\u001b[38;5;241m=\u001b[39mfs_persist, fs_threshold\u001b[38;5;241m=\u001b[39mfs_threshold,\n\u001b[0;32m    561\u001b[0m                      fs_page_size\u001b[38;5;241m=\u001b[39mfs_page_size)\n\u001b[1;32m--> 562\u001b[0m     fid \u001b[38;5;241m=\u001b[39m \u001b[43mmake_fid\u001b[49m\u001b[43m(\u001b[49m\u001b[43mname\u001b[49m\u001b[43m,\u001b[49m\u001b[43m \u001b[49m\u001b[43mmode\u001b[49m\u001b[43m,\u001b[49m\u001b[43m \u001b[49m\u001b[43muserblock_size\u001b[49m\u001b[43m,\u001b[49m\u001b[43m \u001b[49m\u001b[43mfapl\u001b[49m\u001b[43m,\u001b[49m\u001b[43m \u001b[49m\u001b[43mfcpl\u001b[49m\u001b[43m,\u001b[49m\u001b[43m \u001b[49m\u001b[43mswmr\u001b[49m\u001b[38;5;241;43m=\u001b[39;49m\u001b[43mswmr\u001b[49m\u001b[43m)\u001b[49m\n\u001b[0;32m    564\u001b[0m \u001b[38;5;28;01mif\u001b[39;00m \u001b[38;5;28misinstance\u001b[39m(libver, \u001b[38;5;28mtuple\u001b[39m):\n\u001b[0;32m    565\u001b[0m     \u001b[38;5;28mself\u001b[39m\u001b[38;5;241m.\u001b[39m_libver \u001b[38;5;241m=\u001b[39m libver\n",
      "File \u001b[1;32mc:\\Users\\nutae\\.conda\\envs\\tfdml_plugin\\lib\\site-packages\\h5py\\_hl\\files.py:235\u001b[0m, in \u001b[0;36mmake_fid\u001b[1;34m(name, mode, userblock_size, fapl, fcpl, swmr)\u001b[0m\n\u001b[0;32m    233\u001b[0m     \u001b[38;5;28;01mif\u001b[39;00m swmr \u001b[38;5;129;01mand\u001b[39;00m swmr_support:\n\u001b[0;32m    234\u001b[0m         flags \u001b[38;5;241m|\u001b[39m\u001b[38;5;241m=\u001b[39m h5f\u001b[38;5;241m.\u001b[39mACC_SWMR_READ\n\u001b[1;32m--> 235\u001b[0m     fid \u001b[38;5;241m=\u001b[39m \u001b[43mh5f\u001b[49m\u001b[38;5;241;43m.\u001b[39;49m\u001b[43mopen\u001b[49m\u001b[43m(\u001b[49m\u001b[43mname\u001b[49m\u001b[43m,\u001b[49m\u001b[43m \u001b[49m\u001b[43mflags\u001b[49m\u001b[43m,\u001b[49m\u001b[43m \u001b[49m\u001b[43mfapl\u001b[49m\u001b[38;5;241;43m=\u001b[39;49m\u001b[43mfapl\u001b[49m\u001b[43m)\u001b[49m\n\u001b[0;32m    236\u001b[0m \u001b[38;5;28;01melif\u001b[39;00m mode \u001b[38;5;241m==\u001b[39m \u001b[38;5;124m'\u001b[39m\u001b[38;5;124mr+\u001b[39m\u001b[38;5;124m'\u001b[39m:\n\u001b[0;32m    237\u001b[0m     fid \u001b[38;5;241m=\u001b[39m h5f\u001b[38;5;241m.\u001b[39mopen(name, h5f\u001b[38;5;241m.\u001b[39mACC_RDWR, fapl\u001b[38;5;241m=\u001b[39mfapl)\n",
      "File \u001b[1;32mh5py\\\\_objects.pyx:54\u001b[0m, in \u001b[0;36mh5py._objects.with_phil.wrapper\u001b[1;34m()\u001b[0m\n",
      "File \u001b[1;32mh5py\\\\_objects.pyx:55\u001b[0m, in \u001b[0;36mh5py._objects.with_phil.wrapper\u001b[1;34m()\u001b[0m\n",
      "File \u001b[1;32mh5py\\\\h5f.pyx:102\u001b[0m, in \u001b[0;36mh5py.h5f.open\u001b[1;34m()\u001b[0m\n",
      "\u001b[1;31mOSError\u001b[0m: Unable to synchronously open file (file signature not found)"
     ]
    }
   ],
   "source": [
    "test_model = models.load_model('Bare model\\Bare model.model.keras')\n",
    "test_loss, test_acc = test_model.evaluate(test_dataset)\n",
    "print(f\"Test accuracy: {test_acc:.3f}\")"
   ]
  },
  {
   "cell_type": "code",
   "execution_count": null,
   "metadata": {},
   "outputs": [],
   "source": []
  }
 ],
 "metadata": {
  "kernelspec": {
   "display_name": "tfdml_plugin",
   "language": "python",
   "name": "python3"
  },
  "language_info": {
   "codemirror_mode": {
    "name": "ipython",
    "version": 3
   },
   "file_extension": ".py",
   "mimetype": "text/x-python",
   "name": "python",
   "nbconvert_exporter": "python",
   "pygments_lexer": "ipython3",
   "version": "3.10.14"
  }
 },
 "nbformat": 4,
 "nbformat_minor": 2
}
